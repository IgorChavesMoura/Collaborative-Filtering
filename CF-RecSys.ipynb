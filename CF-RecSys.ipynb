{
 "cells": [
  {
   "cell_type": "markdown",
   "metadata": {},
   "source": [
    "# Collaborative Filtering Recommendation Systems\n",
    "\n",
    "## Authors:\n",
    "* Igor Menezes Chaves Moura - 374184\n",
    "* Moésio Júnior de Meneses Filho - 374199\n"
   ]
  },
  {
   "cell_type": "code",
   "execution_count": 1,
   "metadata": {},
   "outputs": [],
   "source": [
    "import numpy as np\n",
    "import pandas as pd\n",
    "import matplotlib.pyplot as plt\n",
    "import sklearn.metrics as metrics\n",
    "from sklearn.metrics import pairwise_distances\n",
    "from sklearn.neighbors import NearestNeighbors\n",
    "from IPython.display import Image"
   ]
  },
  {
   "cell_type": "markdown",
   "metadata": {},
   "source": [
    "### First of all, let's build a simple user-rating matrix to use as data"
   ]
  },
  {
   "cell_type": "code",
   "execution_count": 2,
   "metadata": {},
   "outputs": [],
   "source": [
    "# Rating are in range(1-10) and 0 means no rating\n",
    "\n",
    "M = np.asarray([[3,7,4,9,9,7], \n",
    "                [7,0,5,3,8,8],\n",
    "                [7,5,5,0,8,4],\n",
    "                [5,6,8,5,9,8],\n",
    "                [5,8,8,8,10,9],\n",
    "                [7,7,0,4,7,8]])\n",
    "M = pd.DataFrame(M) "
   ]
  },
  {
   "cell_type": "code",
   "execution_count": 3,
   "metadata": {},
   "outputs": [
    {
     "data": {
      "text/html": [
       "<div>\n",
       "<style scoped>\n",
       "    .dataframe tbody tr th:only-of-type {\n",
       "        vertical-align: middle;\n",
       "    }\n",
       "\n",
       "    .dataframe tbody tr th {\n",
       "        vertical-align: top;\n",
       "    }\n",
       "\n",
       "    .dataframe thead th {\n",
       "        text-align: right;\n",
       "    }\n",
       "</style>\n",
       "<table border=\"1\" class=\"dataframe\">\n",
       "  <thead>\n",
       "    <tr style=\"text-align: right;\">\n",
       "      <th></th>\n",
       "      <th>0</th>\n",
       "      <th>1</th>\n",
       "      <th>2</th>\n",
       "      <th>3</th>\n",
       "      <th>4</th>\n",
       "      <th>5</th>\n",
       "    </tr>\n",
       "  </thead>\n",
       "  <tbody>\n",
       "    <tr>\n",
       "      <th>0</th>\n",
       "      <td>3</td>\n",
       "      <td>7</td>\n",
       "      <td>4</td>\n",
       "      <td>9</td>\n",
       "      <td>9</td>\n",
       "      <td>7</td>\n",
       "    </tr>\n",
       "    <tr>\n",
       "      <th>1</th>\n",
       "      <td>7</td>\n",
       "      <td>0</td>\n",
       "      <td>5</td>\n",
       "      <td>3</td>\n",
       "      <td>8</td>\n",
       "      <td>8</td>\n",
       "    </tr>\n",
       "    <tr>\n",
       "      <th>2</th>\n",
       "      <td>7</td>\n",
       "      <td>5</td>\n",
       "      <td>5</td>\n",
       "      <td>0</td>\n",
       "      <td>8</td>\n",
       "      <td>4</td>\n",
       "    </tr>\n",
       "    <tr>\n",
       "      <th>3</th>\n",
       "      <td>5</td>\n",
       "      <td>6</td>\n",
       "      <td>8</td>\n",
       "      <td>5</td>\n",
       "      <td>9</td>\n",
       "      <td>8</td>\n",
       "    </tr>\n",
       "    <tr>\n",
       "      <th>4</th>\n",
       "      <td>5</td>\n",
       "      <td>8</td>\n",
       "      <td>8</td>\n",
       "      <td>8</td>\n",
       "      <td>10</td>\n",
       "      <td>9</td>\n",
       "    </tr>\n",
       "    <tr>\n",
       "      <th>5</th>\n",
       "      <td>7</td>\n",
       "      <td>7</td>\n",
       "      <td>0</td>\n",
       "      <td>4</td>\n",
       "      <td>7</td>\n",
       "      <td>8</td>\n",
       "    </tr>\n",
       "  </tbody>\n",
       "</table>\n",
       "</div>"
      ],
      "text/plain": [
       "   0  1  2  3   4  5\n",
       "0  3  7  4  9   9  7\n",
       "1  7  0  5  3   8  8\n",
       "2  7  5  5  0   8  4\n",
       "3  5  6  8  5   9  8\n",
       "4  5  8  8  8  10  9\n",
       "5  7  7  0  4   7  8"
      ]
     },
     "execution_count": 3,
     "metadata": {},
     "output_type": "execute_result"
    }
   ],
   "source": [
    "M"
   ]
  },
  {
   "cell_type": "markdown",
   "metadata": {},
   "source": [
    "### Creating some global variables"
   ]
  },
  {
   "cell_type": "code",
   "execution_count": 4,
   "metadata": {},
   "outputs": [],
   "source": [
    "global k, metric\n",
    "\n",
    "k=4 # k similar users\n",
    "metric = 'cosine' #similarity metric, Pearson similarity can be used too"
   ]
  },
  {
   "cell_type": "markdown",
   "metadata": {},
   "source": [
    "## User-Based Recommendation Systems"
   ]
  },
  {
   "cell_type": "markdown",
   "metadata": {},
   "source": [
    "### Now we need calculate the cosine similarity"
   ]
  },
  {
   "cell_type": "code",
   "execution_count": 5,
   "metadata": {},
   "outputs": [],
   "source": [
    "cosine_sim = 1-pairwise_distances(M, metric=metric)"
   ]
  },
  {
   "cell_type": "code",
   "execution_count": 6,
   "metadata": {},
   "outputs": [
    {
     "data": {
      "text/html": [
       "<div>\n",
       "<style scoped>\n",
       "    .dataframe tbody tr th:only-of-type {\n",
       "        vertical-align: middle;\n",
       "    }\n",
       "\n",
       "    .dataframe tbody tr th {\n",
       "        vertical-align: top;\n",
       "    }\n",
       "\n",
       "    .dataframe thead th {\n",
       "        text-align: right;\n",
       "    }\n",
       "</style>\n",
       "<table border=\"1\" class=\"dataframe\">\n",
       "  <thead>\n",
       "    <tr style=\"text-align: right;\">\n",
       "      <th></th>\n",
       "      <th>0</th>\n",
       "      <th>1</th>\n",
       "      <th>2</th>\n",
       "      <th>3</th>\n",
       "      <th>4</th>\n",
       "      <th>5</th>\n",
       "    </tr>\n",
       "  </thead>\n",
       "  <tbody>\n",
       "    <tr>\n",
       "      <th>0</th>\n",
       "      <td>1.000000</td>\n",
       "      <td>0.799268</td>\n",
       "      <td>0.779227</td>\n",
       "      <td>0.934622</td>\n",
       "      <td>0.973890</td>\n",
       "      <td>0.884600</td>\n",
       "    </tr>\n",
       "    <tr>\n",
       "      <th>1</th>\n",
       "      <td>0.799268</td>\n",
       "      <td>1.000000</td>\n",
       "      <td>0.874744</td>\n",
       "      <td>0.905850</td>\n",
       "      <td>0.866146</td>\n",
       "      <td>0.827036</td>\n",
       "    </tr>\n",
       "    <tr>\n",
       "      <th>2</th>\n",
       "      <td>0.779227</td>\n",
       "      <td>0.874744</td>\n",
       "      <td>1.000000</td>\n",
       "      <td>0.909513</td>\n",
       "      <td>0.865454</td>\n",
       "      <td>0.853275</td>\n",
       "    </tr>\n",
       "    <tr>\n",
       "      <th>3</th>\n",
       "      <td>0.934622</td>\n",
       "      <td>0.905850</td>\n",
       "      <td>0.909513</td>\n",
       "      <td>1.000000</td>\n",
       "      <td>0.989344</td>\n",
       "      <td>0.865614</td>\n",
       "    </tr>\n",
       "    <tr>\n",
       "      <th>4</th>\n",
       "      <td>0.973890</td>\n",
       "      <td>0.866146</td>\n",
       "      <td>0.865454</td>\n",
       "      <td>0.989344</td>\n",
       "      <td>1.000000</td>\n",
       "      <td>0.881640</td>\n",
       "    </tr>\n",
       "    <tr>\n",
       "      <th>5</th>\n",
       "      <td>0.884600</td>\n",
       "      <td>0.827036</td>\n",
       "      <td>0.853275</td>\n",
       "      <td>0.865614</td>\n",
       "      <td>0.881640</td>\n",
       "      <td>1.000000</td>\n",
       "    </tr>\n",
       "  </tbody>\n",
       "</table>\n",
       "</div>"
      ],
      "text/plain": [
       "          0         1         2         3         4         5\n",
       "0  1.000000  0.799268  0.779227  0.934622  0.973890  0.884600\n",
       "1  0.799268  1.000000  0.874744  0.905850  0.866146  0.827036\n",
       "2  0.779227  0.874744  1.000000  0.909513  0.865454  0.853275\n",
       "3  0.934622  0.905850  0.909513  1.000000  0.989344  0.865614\n",
       "4  0.973890  0.866146  0.865454  0.989344  1.000000  0.881640\n",
       "5  0.884600  0.827036  0.853275  0.865614  0.881640  1.000000"
      ]
     },
     "execution_count": 6,
     "metadata": {},
     "output_type": "execute_result"
    }
   ],
   "source": [
    "pd.DataFrame(cosine_sim)"
   ]
  },
  {
   "cell_type": "markdown",
   "metadata": {},
   "source": [
    "### This function finds k similar users given the user_id and the user-ratings matrix (kNN)"
   ]
  },
  {
   "cell_type": "code",
   "execution_count": 7,
   "metadata": {},
   "outputs": [],
   "source": [
    "def find_k_similar_users(user_id,ratings,metric = metric, k = k):\n",
    "    \n",
    "    similarities=[]\n",
    "    indices=[]\n",
    "    model_knn = NearestNeighbors(metric = metric, algorithm = 'brute') \n",
    "    model_knn.fit(ratings)\n",
    "\n",
    "    distances, indices = model_knn.kneighbors(ratings.iloc[user_id-1, :].values.reshape(1, -1), n_neighbors = k+1)\n",
    "    \n",
    "    similarities = 1-distances.flatten() #similarity is the inverse of distance\n",
    "    \n",
    "    print('{0} most similar users for User {1}:\\n'.format(k,user_id))\n",
    "    \n",
    "    for i in range(0, len(indices.flatten())):\n",
    "        if indices.flatten()[i]+1 == user_id:\n",
    "            continue\n",
    "\n",
    "        else:\n",
    "            print('{0}: User {1}, with similarity of {2}'.format(i, indices.flatten()[i]+1, similarities.flatten()[i]))\n",
    "            \n",
    "    \n",
    "    return similarities,indices"
   ]
  },
  {
   "cell_type": "code",
   "execution_count": 8,
   "metadata": {},
   "outputs": [
    {
     "name": "stdout",
     "output_type": "stream",
     "text": [
      "4 most similar users for User 1:\n",
      "\n",
      "1: User 5, with similarity of 0.9738899354018393\n",
      "2: User 4, with similarity of 0.934621684178377\n",
      "3: User 6, with similarity of 0.8846004572297814\n",
      "4: User 2, with similarity of 0.7992679780524187\n"
     ]
    }
   ],
   "source": [
    "similarities,indices = find_k_similar_users(1,M, metric='cosine')"
   ]
  },
  {
   "cell_type": "markdown",
   "metadata": {},
   "source": [
    "### To use the user-based approach , we're going the use the following formula"
   ]
  },
  {
   "cell_type": "code",
   "execution_count": 9,
   "metadata": {},
   "outputs": [
    {
     "data": {
      "text/html": [
       "<img src=\"https://cdn-images-1.medium.com/max/800/1*MdEImGMBgGY_5xltOJJAQA.png\"/>"
      ],
      "text/plain": [
       "<IPython.core.display.Image object>"
      ]
     },
     "execution_count": 9,
     "metadata": {},
     "output_type": "execute_result"
    }
   ],
   "source": [
    "Image(url=\"https://cdn-images-1.medium.com/max/800/1*MdEImGMBgGY_5xltOJJAQA.png\")"
   ]
  },
  {
   "cell_type": "markdown",
   "metadata": {},
   "source": [
    "#### Where p(a,i) is the prediction for target or active user a for item i, w(a,u) is the similarity between users a and u, and K is the neighborhood of most similar users."
   ]
  },
  {
   "cell_type": "markdown",
   "metadata": {},
   "source": [
    "#### This formula compute predictions as the weighted avarage of deviations of neighbor's mean and adding it to the active user's mean rating. Deviations are used to ajust for the user associated biases. User biases occur as certain users may tend to always give high or low ratings to all items."
   ]
  },
  {
   "cell_type": "code",
   "execution_count": 10,
   "metadata": {},
   "outputs": [],
   "source": [
    "def predict_userbased(user_id,item_id, ratings, metric = metric, k = k):\n",
    "     \n",
    "    prediction = 0\n",
    "    \n",
    "    similarities,indices = find_k_similar_users(user_id,ratings,metric,k)\n",
    "    \n",
    "    \n",
    "    mean_rating = ratings.loc[user_id-1].mean()\n",
    "    \n",
    "    sum_wt = np.sum(similarities) - 1 # -1 to desconsider the similarity between the user i and user i which is 1\n",
    "    \n",
    "    product = 1\n",
    "    \n",
    "    weighted_sum = 0\n",
    "    \n",
    "    \n",
    "    iflatten = indices.flatten()\n",
    "    \n",
    "    for i in range(0,len(iflatten)):\n",
    "        \n",
    "        if((i+1) == user_id):\n",
    "            continue\n",
    "        \n",
    "        else:\n",
    "            \n",
    "            ratings_diff = ratings.iloc[iflatten[i],item_id - 1] - np.mean(ratings.iloc[iflatten[i]])\n",
    "            \n",
    "            product = ratings_diff * (similarities[i])\n",
    "            \n",
    "            weighted_sum += product\n",
    "            \n",
    "        prediction = int(round(mean_rating + (weighted_sum/sum_wt))) \n",
    "        \n",
    "        \n",
    "    print('\\nPredicted rating for user {0} -> item {1}: {2}'.format(user_id,item_id,prediction))\n",
    "    \n",
    "    return prediction"
   ]
  },
  {
   "cell_type": "code",
   "execution_count": 11,
   "metadata": {},
   "outputs": [
    {
     "name": "stdout",
     "output_type": "stream",
     "text": [
      "4 most similar users for User 3:\n",
      "\n",
      "1: User 4, with similarity of 0.9095126893401909\n",
      "2: User 2, with similarity of 0.8747444148494656\n",
      "3: User 5, with similarity of 0.8654538781497916\n",
      "4: User 6, with similarity of 0.853274963343837\n",
      "\n",
      "Predicted rating for user 3 -> item 4: 3\n"
     ]
    },
    {
     "data": {
      "text/plain": [
       "3"
      ]
     },
     "execution_count": 11,
     "metadata": {},
     "output_type": "execute_result"
    }
   ],
   "source": [
    "predict_userbased(3,4,M)"
   ]
  },
  {
   "cell_type": "markdown",
   "metadata": {},
   "source": [
    "## Item-Based Recommendation Systems"
   ]
  },
  {
   "cell_type": "markdown",
   "metadata": {},
   "source": [
    "### This function finds k similar items given the item_id and user-ratings matrix(kNN for items) "
   ]
  },
  {
   "cell_type": "code",
   "execution_count": 14,
   "metadata": {},
   "outputs": [],
   "source": [
    "def find_k_similar_items(item_id,ratings,metric=metric,k=k):\n",
    "    \n",
    "    similarities = []\n",
    "    \n",
    "    indices = []\n",
    "    \n",
    "    ratings = ratings.T #Now the rows are the items\n",
    "    \n",
    "    model_knn = NearestNeighbors(metric = metric, algorithm = 'brute')\n",
    "    model_knn.fit(ratings)\n",
    "    \n",
    "    distances,indices = model_knn.kneighbors(ratings.iloc[item_id-1].values.reshape(1, -1), n_neighbors = k+1)\n",
    "    \n",
    "    similarities = 1-distances.flatten()\n",
    "    \n",
    "    print('{0} most similar items for item {1}:\\n'.format(k,item_id))\n",
    "    \n",
    "    for i in range(0, len(indices.flatten())):\n",
    "        if indices.flatten()[i]+1 == item_id:\n",
    "            continue;\n",
    "\n",
    "        else:\n",
    "            print('{0}: Item {1} :, with similarity of {2}'.format(i,indices.flatten()[i]+1, similarities.flatten()[i]))\n",
    "\n",
    "\n",
    "    return similarities,indices\n",
    "    "
   ]
  },
  {
   "cell_type": "code",
   "execution_count": 15,
   "metadata": {},
   "outputs": [
    {
     "name": "stdout",
     "output_type": "stream",
     "text": [
      "4 most similar items for item 3:\n",
      "\n",
      "1: Item 5 :, with similarity of 0.9183361255345219\n",
      "2: Item 6 :, with similarity of 0.8747597730381951\n",
      "3: Item 1 :, with similarity of 0.8103647462221737\n",
      "4: Item 4 :, with similarity of 0.7969178003023933\n"
     ]
    }
   ],
   "source": [
    "similarities,indices=find_k_similar_items(3,M)"
   ]
  },
  {
   "cell_type": "markdown",
   "metadata": {},
   "source": [
    "### To use the item-based approach, we're now going to use the following formula"
   ]
  },
  {
   "cell_type": "code",
   "execution_count": 16,
   "metadata": {},
   "outputs": [
    {
     "data": {
      "text/html": [
       "<img src=\"https://cdn-images-1.medium.com/max/800/1*4LhLv-MRP29aHESuaWwMAA.png\"/>"
      ],
      "text/plain": [
       "<IPython.core.display.Image object>"
      ]
     },
     "execution_count": 16,
     "metadata": {},
     "output_type": "execute_result"
    }
   ],
   "source": [
    "Image(url='https://cdn-images-1.medium.com/max/800/1*4LhLv-MRP29aHESuaWwMAA.png')"
   ]
  },
  {
   "cell_type": "markdown",
   "metadata": {},
   "source": [
    "#### Where K is the neighborhood of most similar items rated by active user a, and w(i,j) is the similarity between items i and j."
   ]
  },
  {
   "cell_type": "markdown",
   "metadata": {},
   "source": [
    "#### In this formula above we use the simple weighted average"
   ]
  },
  {
   "cell_type": "code",
   "execution_count": 18,
   "metadata": {},
   "outputs": [],
   "source": [
    "def predict_itembased(user_id,item_id,ratings,metric = metric,k = k):\n",
    "    \n",
    "    prediction = 0\n",
    "    \n",
    "    weighted_sum = 0\n",
    "    \n",
    "    similarities,indices = find_k_similar_items(item_id,ratings)\n",
    "    \n",
    "    sum_wt = np.sum(similarities) - 1\n",
    "    \n",
    "    product = 1\n",
    "    \n",
    "    iflatten = indices.flatten()\n",
    "    \n",
    "    for i in range(0,len(iflatten)):\n",
    "        \n",
    "        if(iflatten[i] + 1 == user_id):\n",
    "            \n",
    "            continue\n",
    "            \n",
    "        else:\n",
    "            \n",
    "            product = ratings.iloc[user_id-1,iflatten[i]] * (similarities[i])\n",
    "            \n",
    "            weighted_sum += product\n",
    "            \n",
    "        \n",
    "    \n",
    "    prediction = int(round(weighted_sum/sum_wt)) \n",
    "            \n",
    "    print('\\nPredicted rating for user {0} -> item {1}: {2}'.format(user_id,item_id,prediction))      \n",
    "        \n",
    "        \n",
    "    \n",
    "    return prediction"
   ]
  },
  {
   "cell_type": "code",
   "execution_count": 19,
   "metadata": {},
   "outputs": [
    {
     "name": "stdout",
     "output_type": "stream",
     "text": [
      "4 most similar items for item 3:\n",
      "\n",
      "1: Item 5 :, with similarity of 0.9183361255345219\n",
      "2: Item 6 :, with similarity of 0.8747597730381951\n",
      "3: Item 1 :, with similarity of 0.8103647462221737\n",
      "4: Item 4 :, with similarity of 0.7969178003023933\n",
      "\n",
      "Predicted rating for user 1 -> item 3: 8\n"
     ]
    }
   ],
   "source": [
    "prediction = predict_itembased(1,3,M)"
   ]
  },
  {
   "cell_type": "markdown",
   "metadata": {},
   "source": [
    "## Adjusted Cosine Similarity"
   ]
  },
  {
   "cell_type": "markdown",
   "metadata": {},
   "source": [
    "#### Using cosine similarity metric for item-based CF approach does not consider difference in ratings of users (bias). Adjusted cosine similarity offsets this drawback by subtracting respective user’s average rating from each co-rated pair."
   ]
  },
  {
   "cell_type": "markdown",
   "metadata": {},
   "source": [
    "#### Adjusted Cosine Similarity is defined as below"
   ]
  },
  {
   "cell_type": "code",
   "execution_count": 20,
   "metadata": {},
   "outputs": [
    {
     "data": {
      "text/html": [
       "<img src=\"https://cdn-images-1.medium.com/max/800/1*P-JTYdDjXGwpgnUMCu2YKw.png\"/>"
      ],
      "text/plain": [
       "<IPython.core.display.Image object>"
      ]
     },
     "execution_count": 20,
     "metadata": {},
     "output_type": "execute_result"
    }
   ],
   "source": [
    "Image(url=\"https://cdn-images-1.medium.com/max/800/1*P-JTYdDjXGwpgnUMCu2YKw.png\")"
   ]
  },
  {
   "cell_type": "code",
   "execution_count": 21,
   "metadata": {},
   "outputs": [],
   "source": [
    "def adjusted_cosine_similarity(M):\n",
    "    \n",
    "    sim_matrix = np.zeros((M.shape[1], M.shape[1]))\n",
    "    \n",
    "    M_u = M.mean(axis=1) #means\n",
    "          \n",
    "    for i in range(M.shape[1]):\n",
    "        for j in range(M.shape[1]):\n",
    "            \n",
    "            if i == j:\n",
    "                \n",
    "                sim_matrix[i][j] = 1\n",
    "            \n",
    "            else:                \n",
    "                \n",
    "                if i<j:\n",
    "                    \n",
    "                    sum_num = sum_den1 = sum_den2 = 0\n",
    "                    for k,row in M.loc[:,[i,j]].iterrows(): \n",
    "\n",
    "                        if ((M.loc[k,i] != 0) & (M.loc[k,j] != 0)):\n",
    "                            num = (M[i][k]-M_u[k])*(M[j][k]-M_u[k])\n",
    "                            den1= (M[i][k]-M_u[k])**2\n",
    "                            den2= (M[j][k]-M_u[k])**2\n",
    "                            \n",
    "                            sum_num = sum_num + num\n",
    "                            sum_den1 = sum_den1 + den1\n",
    "                            sum_den2 = sum_den2 + den2\n",
    "                        \n",
    "                        else:\n",
    "                            continue                          \n",
    "                                       \n",
    "                    den=(sum_den1**0.5)*(sum_den2**0.5)\n",
    "                    \n",
    "                    if den!=0:\n",
    "                        sim_matrix[i][j] = sum_num/den\n",
    "                    \n",
    "                    else:\n",
    "                        sim_matrix[i][j] = 0\n",
    "\n",
    "\n",
    "                else:\n",
    "                    sim_matrix[i][j] = sim_matrix[j][i]           \n",
    "            \n",
    "    return pd.DataFrame(sim_matrix)"
   ]
  },
  {
   "cell_type": "code",
   "execution_count": 22,
   "metadata": {},
   "outputs": [],
   "source": [
    "def find_k_similar_items_adjcos(item_id,ratings,k = k):\n",
    "    \n",
    "    sim_matrix = adjusted_cosine_similarity(ratings)\n",
    "    \n",
    "    similarities = sim_matrix[item_id-1].sort_values(ascending=False)[:k+1].values\n",
    "    \n",
    "    indices = sim_matrix[item_id-1].sort_values(ascending=False)[:k+1].index\n",
    "    \n",
    "    print('{0} most similar items for item {1}:\\n'.format(k,item_id))\n",
    "    for i in range(0, len(indices)):\n",
    "            if (indices[i]+1 == item_id):\n",
    "                \n",
    "                continue\n",
    "\n",
    "            else:\n",
    "                \n",
    "                print ('{0}: Item {1} :, with similarity of {2}'.format(i,indices[i]+1, similarities[i]))\n",
    "        \n",
    "    return similarities ,indices"
   ]
  },
  {
   "cell_type": "code",
   "execution_count": 24,
   "metadata": {},
   "outputs": [
    {
     "name": "stdout",
     "output_type": "stream",
     "text": [
      "4 most similar items for item 3:\n",
      "\n",
      "1: Item 1 :, with similarity of 0.42126273187113467\n",
      "2: Item 6 :, with similarity of -0.05363989048891138\n",
      "3: Item 5 :, with similarity of -0.2305213582693748\n",
      "4: Item 4 :, with similarity of -0.7679410465751941\n"
     ]
    }
   ],
   "source": [
    "similarities, indices = find_k_similar_items_adjcos(3,M)"
   ]
  },
  {
   "cell_type": "code",
   "execution_count": 31,
   "metadata": {},
   "outputs": [],
   "source": [
    "def predict_itembased_adjcos(user_id,item_id,ratings,metric = metric, k = k):\n",
    "    \n",
    "    prediction = 0\n",
    "    \n",
    "    similarities, indices = find_k_similar_items_adjcos(item_id,ratings,k)\n",
    "    \n",
    "    sum_wt = np.sum(similarities)-1\n",
    "    \n",
    "    product = 1\n",
    "    \n",
    "    weighted_sum = 0\n",
    "    \n",
    "    for i in range(0,len(indices)):\n",
    "        \n",
    "        if(indices[i]+1 == item_id):\n",
    "            \n",
    "            continue\n",
    "        \n",
    "        else:\n",
    "            \n",
    "            product = ratings.iloc[user_id-1,indices[i]] * (similarities[i])\n",
    "            \n",
    "            weighted_sum += product\n",
    "            \n",
    "            \n",
    "    prediction = int(round(weighted_sum/sum_wt))\n",
    "    \n",
    "    if prediction < 0:\n",
    "        prediction = 1\n",
    "    \n",
    "    elif prediction >10:\n",
    "        prediction = 10\n",
    "    \n",
    "    print('\\nPredicted rating for user {0} -> item {1}: {2}'.format(user_id,item_id,prediction))\n",
    "    \n",
    "    return prediction"
   ]
  },
  {
   "cell_type": "code",
   "execution_count": 32,
   "metadata": {},
   "outputs": [
    {
     "name": "stdout",
     "output_type": "stream",
     "text": [
      "4 most similar items for item 4:\n",
      "\n",
      "1: Item 2 :, with similarity of 0.08574143411490752\n",
      "2: Item 5 :, with similarity of -0.2990588277904165\n",
      "3: Item 1 :, with similarity of -0.5190852688949424\n",
      "4: Item 6 :, with similarity of -0.6445502869540708\n",
      "\n",
      "Predicted rating for user 3 -> item 4: 6\n"
     ]
    }
   ],
   "source": [
    "prediction = predict_itembased_adjcos(3,4,M)"
   ]
  },
  {
   "cell_type": "markdown",
   "metadata": {},
   "source": [
    "#### Now our item-based approach deals with users biases, that means it deals with users that usually has high or low ratings"
   ]
  },
  {
   "cell_type": "code",
   "execution_count": null,
   "metadata": {},
   "outputs": [],
   "source": []
  }
 ],
 "metadata": {
  "kernelspec": {
   "display_name": "Python 3",
   "language": "python",
   "name": "python3"
  },
  "language_info": {
   "codemirror_mode": {
    "name": "ipython",
    "version": 3
   },
   "file_extension": ".py",
   "mimetype": "text/x-python",
   "name": "python",
   "nbconvert_exporter": "python",
   "pygments_lexer": "ipython3",
   "version": "3.6.5"
  }
 },
 "nbformat": 4,
 "nbformat_minor": 2
}
